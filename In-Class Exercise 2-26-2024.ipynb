{
 "cells": [
  {
   "cell_type": "code",
   "execution_count": 2,
   "id": "3e82c801",
   "metadata": {},
   "outputs": [],
   "source": [
    "import numpy as np\n",
    "import scipy.stats as stats\n",
    "\n",
    "np.random.seed(42)\n",
    "math_scores = np.random.randint (50,100,100)\n",
    "physics_scores = math_scores + np.random.normal(0,5,100)"
   ]
  },
  {
   "cell_type": "code",
   "execution_count": 8,
   "id": "38a8c558",
   "metadata": {},
   "outputs": [
    {
     "name": "stdout",
     "output_type": "stream",
     "text": [
      "206.33122873429554\n",
      "0.9419906620725622\n"
     ]
    }
   ],
   "source": [
    "covariance = np.cov(math_scores, physics_scores)[0, 1]\n",
    "correlation = np.corrcoef(math_scores, physics_scores)[0, 1]\n",
    "\n",
    "print(covariance)\n",
    "print(correlation)"
   ]
  },
  {
   "cell_type": "markdown",
   "id": "a828f0a4",
   "metadata": {},
   "source": [
    "^^It indicates a strong positive linear relationship between math and physics scores."
   ]
  },
  {
   "cell_type": "code",
   "execution_count": 9,
   "id": "53dccae3",
   "metadata": {},
   "outputs": [
    {
     "name": "stdout",
     "output_type": "stream",
     "text": [
      "Mean Physics Score: 74.26474828427658\n",
      "Standard Deviation Physics Score: 15.084850331749571\n",
      "95% Confidence Interval for Physics Score: (71.30817194803595, 77.22132462051721)\n"
     ]
    }
   ],
   "source": [
    "mean_physics = np.mean(physics_scores)\n",
    "std_physics = np.std(physics_scores)\n",
    "\n",
    "# Compute 95% confidence interval for physics_scores\n",
    "confidence_interval = stats.norm.interval(0.95, loc=mean_physics, scale=std_physics / np.sqrt(len(physics_scores)))\n",
    "print(f'Mean Physics Score: {mean_physics}')\n",
    "print(f'Standard Deviation Physics Score: {std_physics}')\n",
    "print(f'95% Confidence Interval for Physics Score: {confidence_interval}')"
   ]
  },
  {
   "cell_type": "code",
   "execution_count": 10,
   "id": "30560caa",
   "metadata": {},
   "outputs": [
    {
     "name": "stdout",
     "output_type": "stream",
     "text": [
      "Mean Physics Score: 74.26474828427658\n",
      "Standard Deviation Physics Score: 15.084850331749571\n",
      "Standard Error: 1.508485033174957\n",
      "95% Confidence Interval for Physics Score using the formula: (71.30811761925366, 77.22137894929949)\n"
     ]
    }
   ],
   "source": [
    "SE = std_physics / np.sqrt(len(physics_scores))\n",
    "z_value = 1.96  # for 95% confidence level\n",
    "confidence_interval2 = (mean_physics - z_value * SE, mean_physics + z_value * SE)\n",
    "print(f'Mean Physics Score: {mean_physics}')\n",
    "print(f'Standard Deviation Physics Score: {std_physics}')\n",
    "print(f'Standard Error: {SE}')\n",
    "print(f'95% Confidence Interval for Physics Score using the formula: {confidence_interval2}')"
   ]
  },
  {
   "cell_type": "code",
   "execution_count": null,
   "id": "8ffa9dc2",
   "metadata": {},
   "outputs": [],
   "source": []
  }
 ],
 "metadata": {
  "kernelspec": {
   "display_name": "Python 3 (ipykernel)",
   "language": "python",
   "name": "python3"
  },
  "language_info": {
   "codemirror_mode": {
    "name": "ipython",
    "version": 3
   },
   "file_extension": ".py",
   "mimetype": "text/x-python",
   "name": "python",
   "nbconvert_exporter": "python",
   "pygments_lexer": "ipython3",
   "version": "3.11.5"
  }
 },
 "nbformat": 4,
 "nbformat_minor": 5
}
