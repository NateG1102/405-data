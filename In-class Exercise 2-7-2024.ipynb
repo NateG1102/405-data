{
 "cells": [
  {
   "cell_type": "markdown",
   "id": "41b07d82",
   "metadata": {},
   "source": [
    "# Question 1"
   ]
  },
  {
   "cell_type": "markdown",
   "id": "bf13b932",
   "metadata": {},
   "source": [
    "(A)"
   ]
  },
  {
   "cell_type": "code",
   "execution_count": 46,
   "id": "0fb41574",
   "metadata": {},
   "outputs": [
    {
     "name": "stdout",
     "output_type": "stream",
     "text": [
      "[73 95 84 82  1 27 16 37 52 73]\n"
     ]
    }
   ],
   "source": [
    "import numpy as np \n",
    "import random \n",
    "arr= np.random.randint(1,100,10)\n",
    "print(arr)"
   ]
  },
  {
   "cell_type": "markdown",
   "id": "627e93f7",
   "metadata": {},
   "source": [
    "\n",
    "\n",
    "(B)"
   ]
  },
  {
   "cell_type": "code",
   "execution_count": 47,
   "id": "045a61b5",
   "metadata": {},
   "outputs": [
    {
     "name": "stdout",
     "output_type": "stream",
     "text": [
      "73\n"
     ]
    }
   ],
   "source": [
    "last_element = arr[-1]\n",
    "print(last_element)"
   ]
  },
  {
   "cell_type": "markdown",
   "id": "d39eb7e2",
   "metadata": {},
   "source": [
    "\n",
    "\n",
    "(C)"
   ]
  },
  {
   "cell_type": "code",
   "execution_count": 48,
   "id": "45a92c70",
   "metadata": {},
   "outputs": [
    {
     "name": "stdout",
     "output_type": "stream",
     "text": [
      "[[0.81867845 0.10402436 0.22114912]\n",
      " [0.18776149 0.66604294 0.74811289]\n",
      " [0.27098535 0.31404956 0.34464876]]\n"
     ]
    }
   ],
   "source": [
    "float_array = np.random.rand(3, 3)\n",
    "print(float_array)"
   ]
  },
  {
   "cell_type": "markdown",
   "id": "f403f183",
   "metadata": {},
   "source": [
    "\n",
    "# Question 2"
   ]
  },
  {
   "cell_type": "markdown",
   "id": "e5187def",
   "metadata": {},
   "source": [
    "(A)"
   ]
  },
  {
   "cell_type": "code",
   "execution_count": 49,
   "id": "474c7f1d",
   "metadata": {},
   "outputs": [
    {
     "name": "stdout",
     "output_type": "stream",
     "text": [
      "[0.81867845 0.10402436 0.22114912]\n"
     ]
    }
   ],
   "source": [
    "first_row=float_array[0]\n",
    "print(first_row)"
   ]
  },
  {
   "cell_type": "markdown",
   "id": "6877244a",
   "metadata": {},
   "source": [
    "\n",
    "\n",
    "(B)"
   ]
  },
  {
   "cell_type": "code",
   "execution_count": 50,
   "id": "31a2f0f9",
   "metadata": {},
   "outputs": [
    {
     "name": "stdout",
     "output_type": "stream",
     "text": [
      "[0.22114912 0.74811289 0.34464876]\n"
     ]
    }
   ],
   "source": [
    "last_col=float_array[:,-1]\n",
    "print(last_col)"
   ]
  },
  {
   "cell_type": "markdown",
   "id": "11706c98",
   "metadata": {},
   "source": [
    "\n",
    "\n",
    "(C)"
   ]
  },
  {
   "cell_type": "code",
   "execution_count": 51,
   "id": "da40d418",
   "metadata": {},
   "outputs": [
    {
     "name": "stdout",
     "output_type": "stream",
     "text": [
      "[[0.81867845 0.10402436]\n",
      " [0.18776149 0.66604294]]\n"
     ]
    }
   ],
   "source": [
    "sub_arr=np.array(float_array[:2,:2])\n",
    "print(sub_arr)"
   ]
  },
  {
   "cell_type": "markdown",
   "id": "ef92972c",
   "metadata": {},
   "source": [
    "# Question 3"
   ]
  },
  {
   "cell_type": "markdown",
   "id": "834fa818",
   "metadata": {},
   "source": [
    "(A)"
   ]
  },
  {
   "cell_type": "code",
   "execution_count": 52,
   "id": "e6b72377",
   "metadata": {},
   "outputs": [
    {
     "name": "stdout",
     "output_type": "stream",
     "text": [
      "[184  54  88 143 163]\n"
     ]
    }
   ],
   "source": [
    "array1=np.random.randint(1,100,size=5)\n",
    "array2=np.random.randint(1,100,size=5)\n",
    "\n",
    "array_add=array1+array2\n",
    "print(array_add)"
   ]
  },
  {
   "cell_type": "markdown",
   "id": "4d23aaf5",
   "metadata": {},
   "source": [
    "\n",
    "(B)"
   ]
  },
  {
   "cell_type": "code",
   "execution_count": 53,
   "id": "9dfae013",
   "metadata": {},
   "outputs": [
    {
     "name": "stdout",
     "output_type": "stream",
     "text": [
      "[8428  200 1647 5022 6586]\n"
     ]
    }
   ],
   "source": [
    "array_multi= array1*array2\n",
    "print(array_multi)"
   ]
  },
  {
   "cell_type": "markdown",
   "id": "3fa42447",
   "metadata": {},
   "source": [
    "(C)"
   ]
  },
  {
   "cell_type": "code",
   "execution_count": 54,
   "id": "f1a7a63a",
   "metadata": {},
   "outputs": [
    {
     "name": "stdout",
     "output_type": "stream",
     "text": [
      "[9604   16 3721 3844 7921]\n"
     ]
    }
   ],
   "source": [
    "array_square=array1[:]**2\n",
    "print(array_square)"
   ]
  },
  {
   "cell_type": "markdown",
   "id": "5c121d00",
   "metadata": {},
   "source": [
    "# Question 4"
   ]
  },
  {
   "cell_type": "code",
   "execution_count": 55,
   "id": "6af69c16",
   "metadata": {},
   "outputs": [],
   "source": [
    "array_a=np.random.randint(1,100,size=(2,3))\n",
    "array_b=np.random.randint(1,100,size=(3,2))"
   ]
  },
  {
   "cell_type": "markdown",
   "id": "ea21464f",
   "metadata": {},
   "source": [
    "(A)"
   ]
  },
  {
   "cell_type": "code",
   "execution_count": 56,
   "id": "c1b252fb",
   "metadata": {},
   "outputs": [
    {
     "name": "stdout",
     "output_type": "stream",
     "text": [
      "[[ 5972 11640]\n",
      " [ 3630  5010]]\n"
     ]
    }
   ],
   "source": [
    "matrix_multi=np.dot(array_a,array_b)\n",
    "print(matrix_multi)"
   ]
  },
  {
   "cell_type": "markdown",
   "id": "62a35225",
   "metadata": {},
   "source": [
    "(B)\n",
    "No you can not perform multiplication with * becaues the 2 matrixs are diffrent shapes, in order to multiply elements you have to use 'np.multiply(array_a,array_b)'"
   ]
  }
 ],
 "metadata": {
  "kernelspec": {
   "display_name": "Python 3 (ipykernel)",
   "language": "python",
   "name": "python3"
  },
  "language_info": {
   "codemirror_mode": {
    "name": "ipython",
    "version": 3
   },
   "file_extension": ".py",
   "mimetype": "text/x-python",
   "name": "python",
   "nbconvert_exporter": "python",
   "pygments_lexer": "ipython3",
   "version": "3.11.5"
  }
 },
 "nbformat": 4,
 "nbformat_minor": 5
}
