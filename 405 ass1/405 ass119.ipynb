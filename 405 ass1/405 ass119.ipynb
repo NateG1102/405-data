{
 "cells": [
  {
   "cell_type": "code",
   "execution_count": 42,
   "id": "3a8e87f3",
   "metadata": {},
   "outputs": [
    {
     "name": "stdout",
     "output_type": "stream",
     "text": [
      "Fluffy is a Cat and is 3\n"
     ]
    }
   ],
   "source": [
    "from pets_mod import Pet\n",
    "# Create a pet instance\n",
    "fluffy = Pet(\"Fluffy\", \"Cat\", 3)\n",
    "\n",
    "#display pet deatils\n",
    "fluffy.display()"
   ]
  },
  {
   "cell_type": "code",
   "execution_count": null,
   "id": "72be87a8",
   "metadata": {},
   "outputs": [],
   "source": []
  },
  {
   "cell_type": "code",
   "execution_count": 10,
   "id": "0f0b494c",
   "metadata": {},
   "outputs": [],
   "source": []
  },
  {
   "cell_type": "code",
   "execution_count": 22,
   "id": "feb4b14b",
   "metadata": {},
   "outputs": [],
   "source": [
    "\n"
   ]
  }
 ],
 "metadata": {
  "kernelspec": {
   "display_name": "Python 3 (ipykernel)",
   "language": "python",
   "name": "python3"
  },
  "language_info": {
   "codemirror_mode": {
    "name": "ipython",
    "version": 3
   },
   "file_extension": ".py",
   "mimetype": "text/x-python",
   "name": "python",
   "nbconvert_exporter": "python",
   "pygments_lexer": "ipython3",
   "version": "3.11.5"
  }
 },
 "nbformat": 4,
 "nbformat_minor": 5
}
