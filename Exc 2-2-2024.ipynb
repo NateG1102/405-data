{
 "cells": [
  {
   "cell_type": "markdown",
   "id": "8ff0c3a0",
   "metadata": {},
   "source": [
    "# Question 1"
   ]
  },
  {
   "cell_type": "code",
   "execution_count": 8,
   "id": "d22853cc",
   "metadata": {},
   "outputs": [
    {
     "name": "stdout",
     "output_type": "stream",
     "text": [
      "   StudentID Grade\n",
      "0          3     A\n",
      "1          4     B\n",
      "2          5     C\n",
      "3          6     D\n",
      "   StudentID     Name\n",
      "0          1    Alice\n",
      "1          2      Bob\n",
      "2          3  Charlie\n",
      "3          4    David\n",
      "   StudentID Grade     Name\n",
      "0          3     A  Charlie\n",
      "1          4     B    David\n"
     ]
    }
   ],
   "source": [
    "import pandas as pd\n",
    "\n",
    "data1= {\n",
    "    'StudentID':[1,2,3,4],\n",
    "    'Name':['Alice','Bob','Charlie','David']  \n",
    "}\n",
    "df1=pd.DataFrame(data1)\n",
    "\n",
    "\n",
    "#2nd dataframe\n",
    "data2={\n",
    "    'StudentID':[3,4,5,6],\n",
    "    'Grade':['A','B','C','D']\n",
    "}\n",
    "df2=pd.DataFrame(data2)\n",
    "print(df2)\n",
    "print(df1)\n",
    "inner_merge=df2.merge(df1,how=\"inner\",on=\"StudentID\")\n",
    "print(inner_merge)"
   ]
  },
  {
   "cell_type": "code",
   "execution_count": 10,
   "id": "064a3748",
   "metadata": {},
   "outputs": [
    {
     "name": "stdout",
     "output_type": "stream",
     "text": [
      "   StudentID Grade     Name\n",
      "0          3     A  Charlie\n",
      "1          4     B    David\n",
      "2          5     C      NaN\n",
      "3          6     D      NaN\n",
      "4          1   NaN    Alice\n",
      "5          2   NaN      Bob\n"
     ]
    }
   ],
   "source": [
    "outer_merge=df2.merge(df1,how=\"outer\",on=\"StudentID\")\n",
    "print(outer_merge)"
   ]
  },
  {
   "cell_type": "code",
   "execution_count": 12,
   "id": "902b574b",
   "metadata": {},
   "outputs": [
    {
     "name": "stdout",
     "output_type": "stream",
     "text": [
      "   StudentID Grade     Name\n",
      "0          3     A  Charlie\n",
      "1          4     B    David\n",
      "2          5     C      NaN\n",
      "3          6     D      NaN\n"
     ]
    }
   ],
   "source": [
    "left_merge=df2.merge(df1,how=\"left\",on=\"StudentID\")\n",
    "print(left_merge)"
   ]
  },
  {
   "cell_type": "code",
   "execution_count": 13,
   "id": "eb71aa38",
   "metadata": {},
   "outputs": [
    {
     "name": "stdout",
     "output_type": "stream",
     "text": [
      "   StudentID Grade     Name\n",
      "0          1   NaN    Alice\n",
      "1          2   NaN      Bob\n",
      "2          3     A  Charlie\n",
      "3          4     B    David\n"
     ]
    }
   ],
   "source": [
    "right_merge=df2.merge(df1,how=\"right\",on=\"StudentID\")\n",
    "print(right_merge)"
   ]
  },
  {
   "cell_type": "markdown",
   "id": "1cc2095a",
   "metadata": {},
   "source": [
    "# Question 2"
   ]
  },
  {
   "cell_type": "code",
   "execution_count": 15,
   "id": "01b12d4b",
   "metadata": {},
   "outputs": [
    {
     "name": "stdout",
     "output_type": "stream",
     "text": [
      "Total Quantity sold by each Salesperson:\n",
      "Salesperson\n",
      "Alice      9\n",
      "Bob        8\n",
      "Charlie    4\n",
      "Name: Quantity, dtype: int64\n",
      "\n",
      "Average Quantity for each Product:\n",
      "Product\n",
      "Gadget    3.0\n",
      "Widget    4.0\n",
      "Name: Quantity, dtype: float64\n"
     ]
    }
   ],
   "source": [
    "data={\n",
    "    'Salesperson':['Alice','Bob','Charlie','Alice','Bob','Charlie'],\n",
    "    'Product':['Widget','Widget','Gadget','Gadget','Widget','Gadget'],\n",
    "    'Quantity':[4,2,3,5,6,1]\n",
    "}\n",
    "\n",
    "df = pd.DataFrame(data)\n",
    "\n",
    "# Group by 'Salesperson' and calculate total 'Quantity' sold by each salesperson\n",
    "salesperson_group = df.groupby('Salesperson')['Quantity'].sum()\n",
    "print(\"Total Quantity sold by each Salesperson:\")\n",
    "print(salesperson_group)\n",
    "\n",
    "# Group by 'Product' and find the average 'Quantity'\n",
    "product_group = df.groupby('Product')['Quantity'].mean()\n",
    "print(\"\\nAverage Quantity for each Product:\")\n",
    "print(product_group)"
   ]
  },
  {
   "cell_type": "code",
   "execution_count": null,
   "id": "3bad3cc5",
   "metadata": {},
   "outputs": [],
   "source": []
  }
 ],
 "metadata": {
  "kernelspec": {
   "display_name": "Python 3 (ipykernel)",
   "language": "python",
   "name": "python3"
  },
  "language_info": {
   "codemirror_mode": {
    "name": "ipython",
    "version": 3
   },
   "file_extension": ".py",
   "mimetype": "text/x-python",
   "name": "python",
   "nbconvert_exporter": "python",
   "pygments_lexer": "ipython3",
   "version": "3.11.5"
  }
 },
 "nbformat": 4,
 "nbformat_minor": 5
}
