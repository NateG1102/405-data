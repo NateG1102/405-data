{
 "cells": [
  {
   "cell_type": "code",
   "execution_count": null,
   "id": "cd91ba93",
   "metadata": {},
   "outputs": [],
   "source": [
    "Step 1"
   ]
  },
  {
   "cell_type": "code",
   "execution_count": null,
   "id": "b89e3049",
   "metadata": {},
   "outputs": [],
   "source": [
    "from sklearn.datasets import fetch_california_housing\n",
    "from sklearn.model_selection import train_test_split, cross_val_score\n",
    "\n",
    "# Load the dataset\n",
    "data = fetch_california_housing()\n",
    "X = data.data\n",
    "y = data.target"
   ]
  },
  {
   "cell_type": "markdown",
   "id": "8acf0d9d",
   "metadata": {},
   "source": [
    "Step 2"
   ]
  },
  {
   "cell_type": "code",
   "execution_count": null,
   "id": "c81d9136",
   "metadata": {},
   "outputs": [],
   "source": [
    "import pandas as pd\n",
    "\n",
    "# Create a DataFrame to explore the data\n",
    "df = pd.DataFrame(X, columns=data.feature_names)\n",
    "df['Target'] = y\n",
    "\n",
    "# Check for null values\n",
    "print(df.isnull().sum())\n",
    "\n",
    "# Visualize some features\n",
    "import matplotlib.pyplot as plt\n",
    "import seaborn as sns\n",
    "\n",
    "sns.pairplot(df[['MedInc', 'HouseAge', 'AveRooms', 'AveOccup', 'Target']])\n",
    "plt.show()"
   ]
  },
  {
   "cell_type": "markdown",
   "id": "f3218449",
   "metadata": {},
   "source": [
    "Step 3"
   ]
  },
  {
   "cell_type": "code",
   "execution_count": null,
   "id": "ef3bfe5a",
   "metadata": {},
   "outputs": [],
   "source": [
    "from sklearn.linear_model import LinearRegression\n",
    "\n",
    "# Initialize the model\n",
    "model = LinearRegression()\n",
    "\n",
    "# Fit the model on training data\n",
    "model.fit(X_train, y_train)"
   ]
  },
  {
   "cell_type": "markdown",
   "id": "c0cf31f3",
   "metadata": {},
   "source": [
    "Step 4"
   ]
  },
  {
   "cell_type": "code",
   "execution_count": null,
   "id": "befd0eda",
   "metadata": {},
   "outputs": [],
   "source": [
    "from sklearn.model_selection import cross_val_score\n",
    "\n",
    "# Perform 5-fold cross-validation\n",
    "cv_scores = cross_val_score(model, X_train, y_train, cv=5)\n",
    "\n",
    "# Print the cross-validation scores\n",
    "print(\"Cross-validation scores:\", cv_scores)\n",
    "print(\"Mean CV Score:\", cv_scores.mean())"
   ]
  },
  {
   "cell_type": "markdown",
   "id": "65f09640",
   "metadata": {},
   "source": [
    "Step 5"
   ]
  },
  {
   "cell_type": "code",
   "execution_count": null,
   "id": "6d441be5",
   "metadata": {},
   "outputs": [],
   "source": [
    "# Example: Ridge Regression\n",
    "from sklearn.linear_model import Ridge\n",
    "\n",
    "# Initialize the Ridge Regression model\n",
    "ridge_model = Ridge(alpha=1.0)\n",
    "\n",
    "# Fit the Ridge model on training data\n",
    "ridge_model.fit(X_train, y_train)\n",
    "\n",
    "# Perform 5-fold cross-validation for Ridge Regression\n",
    "ridge_cv_scores = cross_val_score(ridge_model, X_train, y_train, cv=5)\n",
    "\n",
    "# Print the cross-validation scores for Ridge Regression\n",
    "print(\"Cross-validation scores for Ridge Regression:\", ridge_cv_scores)\n",
    "print(\"Mean CV Score for Ridge Regression:\", ridge_cv_scores.mean())\n"
   ]
  }
 ],
 "metadata": {
  "kernelspec": {
   "display_name": "Python 3 (ipykernel)",
   "language": "python",
   "name": "python3"
  },
  "language_info": {
   "codemirror_mode": {
    "name": "ipython",
    "version": 3
   },
   "file_extension": ".py",
   "mimetype": "text/x-python",
   "name": "python",
   "nbconvert_exporter": "python",
   "pygments_lexer": "ipython3",
   "version": "3.11.5"
  }
 },
 "nbformat": 4,
 "nbformat_minor": 5
}
