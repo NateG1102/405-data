{
 "cells": [
  {
   "cell_type": "code",
   "execution_count": 6,
   "id": "29079f5b",
   "metadata": {},
   "outputs": [],
   "source": [
    "import pandas as pd \n",
    "import seaborn as sns\n",
    "iris=sns.load_dataset('iris')"
   ]
  },
  {
   "cell_type": "code",
   "execution_count": 11,
   "id": "0fb1fd21",
   "metadata": {},
   "outputs": [
    {
     "name": "stdout",
     "output_type": "stream",
     "text": [
      "   sepal_length  sepal_width  petal_length  petal_width species\n",
      "0           5.1          3.5           1.4          0.2  setosa\n",
      "1           4.9          3.0           1.4          0.2  setosa\n",
      "2           4.7          3.2           1.3          0.2  setosa\n",
      "3           4.6          3.1           1.5          0.2  setosa\n",
      "4           5.0          3.6           1.4          0.2  setosa\n",
      "       sepal_length  sepal_width  petal_length  petal_width\n",
      "count    150.000000   150.000000    150.000000   150.000000\n",
      "mean       5.843333     3.057333      3.758000     1.199333\n",
      "std        0.828066     0.435866      1.765298     0.762238\n",
      "min        4.300000     2.000000      1.000000     0.100000\n",
      "25%        5.100000     2.800000      1.600000     0.300000\n",
      "50%        5.800000     3.000000      4.350000     1.300000\n",
      "75%        6.400000     3.300000      5.100000     1.800000\n",
      "max        7.900000     4.400000      6.900000     2.500000\n"
     ]
    }
   ],
   "source": [
    "print(iris.head())\n",
    "print(iris.describe())"
   ]
  },
  {
   "cell_type": "code",
   "execution_count": 17,
   "id": "97832318",
   "metadata": {},
   "outputs": [
    {
     "data": {
      "text/plain": [
       "5.843333333333334"
      ]
     },
     "execution_count": 17,
     "metadata": {},
     "output_type": "execute_result"
    }
   ],
   "source": [
    "mean=iris['sepal_length'].mean()\n",
    "mean"
   ]
  },
  {
   "cell_type": "code",
   "execution_count": null,
   "id": "8cb6ec91",
   "metadata": {},
   "outputs": [],
   "source": [
    "median= iris['sepal_width'].mean()"
   ]
  },
  {
   "cell_type": "code",
   "execution_count": 19,
   "id": "fef155eb",
   "metadata": {},
   "outputs": [
    {
     "data": {
      "text/plain": [
       "0        setosa\n",
       "1    versicolor\n",
       "2     virginica\n",
       "Name: species, dtype: object"
      ]
     },
     "execution_count": 19,
     "metadata": {},
     "output_type": "execute_result"
    }
   ],
   "source": [
    "mode=iris['species'].mode()\n",
    "mode"
   ]
  },
  {
   "cell_type": "code",
   "execution_count": 20,
   "id": "1abe0884",
   "metadata": {},
   "outputs": [],
   "source": [
    "variance=iris['petal_length'].var()"
   ]
  },
  {
   "cell_type": "code",
   "execution_count": null,
   "id": "eb179da2",
   "metadata": {},
   "outputs": [],
   "source": [
    "sd=iris['petal_width']"
   ]
  },
  {
   "cell_type": "code",
   "execution_count": 24,
   "id": "7fd7a85d",
   "metadata": {},
   "outputs": [],
   "source": [
    "skew=iris.select_dtypes(include=['float64','int64'])\n",
    "skewness=skew.skew()"
   ]
  },
  {
   "cell_type": "code",
   "execution_count": 28,
   "id": "b58c2ffc",
   "metadata": {},
   "outputs": [],
   "source": [
    "kurt=iris['sepal_length'].kurt()"
   ]
  },
  {
   "cell_type": "code",
   "execution_count": null,
   "id": "95961a78",
   "metadata": {},
   "outputs": [],
   "source": [
    "percentiles = df['column_name'].quantile([0.25, 0.5, 0.75])"
   ]
  }
 ],
 "metadata": {
  "kernelspec": {
   "display_name": "Python 3 (ipykernel)",
   "language": "python",
   "name": "python3"
  },
  "language_info": {
   "codemirror_mode": {
    "name": "ipython",
    "version": 3
   },
   "file_extension": ".py",
   "mimetype": "text/x-python",
   "name": "python",
   "nbconvert_exporter": "python",
   "pygments_lexer": "ipython3",
   "version": "3.11.5"
  }
 },
 "nbformat": 4,
 "nbformat_minor": 5
}
